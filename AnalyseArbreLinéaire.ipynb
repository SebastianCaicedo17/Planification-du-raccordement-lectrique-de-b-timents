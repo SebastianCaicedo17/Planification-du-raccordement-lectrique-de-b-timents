{
 "cells": [
  {
   "cell_type": "code",
   "execution_count": 3,
   "id": "a5b874a5",
   "metadata": {},
   "outputs": [
    {
     "name": "stdout",
     "output_type": "stream",
     "text": [
      "  id_batiment  nb_maisons infra_id     infra_type   longueur\n",
      "0     E000001           4  P007111  infra_intacte  12.314461\n",
      "1     E000001           4  P007983  infra_intacte  40.320929\n",
      "2     E000001           4  P000308  infra_intacte  39.140799\n",
      "3     E000001           4  P007819  infra_intacte  17.390464\n",
      "4     E000002           1  P007111  infra_intacte  12.314461\n"
     ]
    }
   ],
   "source": [
    "import pandas as pd\n",
    "\n",
    "# Ouvre le fichier Excel\n",
    "df = pd.read_excel(\"reseau_en_arbre.xlsx\")\n",
    "\n",
    "# Affiche les 5 premières lignes\n",
    "print(df.head())"
   ]
  },
  {
   "cell_type": "code",
   "execution_count": 4,
   "id": "57c6bf91",
   "metadata": {},
   "outputs": [
    {
     "name": "stdout",
     "output_type": "stream",
     "text": [
      "\n",
      "Dimensions : (6107, 5)\n",
      "Nombre de lignes : 6107\n",
      "Nombre de colonnes : 5\n"
     ]
    }
   ],
   "source": [
    "# Nombre de lignes et de colonnes\n",
    "print(\"\\nDimensions :\", df.shape)  # (lignes, colonnes)\n",
    "print(\"Nombre de lignes :\", df.shape[0])\n",
    "print(\"Nombre de colonnes :\", df.shape[1])"
   ]
  },
  {
   "cell_type": "code",
   "execution_count": 5,
   "id": "a5cd1b16",
   "metadata": {},
   "outputs": [
    {
     "name": "stdout",
     "output_type": "stream",
     "text": [
      "Noms des colonnes : ['id_batiment', 'nb_maisons', 'infra_id', 'infra_type', 'longueur']\n"
     ]
    }
   ],
   "source": [
    "# Noms des colonnes\n",
    "print(\"Noms des colonnes :\", df.columns.tolist())"
   ]
  },
  {
   "cell_type": "code",
   "execution_count": 6,
   "id": "361483d0",
   "metadata": {},
   "outputs": [
    {
     "name": "stdout",
     "output_type": "stream",
     "text": [
      "\n",
      "Informations détaillées :\n",
      "<class 'pandas.core.frame.DataFrame'>\n",
      "RangeIndex: 6107 entries, 0 to 6106\n",
      "Data columns (total 5 columns):\n",
      " #   Column       Non-Null Count  Dtype  \n",
      "---  ------       --------------  -----  \n",
      " 0   id_batiment  6107 non-null   object \n",
      " 1   nb_maisons   6107 non-null   int64  \n",
      " 2   infra_id     6107 non-null   object \n",
      " 3   infra_type   6107 non-null   object \n",
      " 4   longueur     6107 non-null   float64\n",
      "dtypes: float64(1), int64(1), object(3)\n",
      "memory usage: 238.7+ KB\n",
      "None\n"
     ]
    }
   ],
   "source": [
    "print(\"\\nInformations détaillées :\")\n",
    "print(df.info())"
   ]
  },
  {
   "cell_type": "code",
   "execution_count": 7,
   "id": "bd63dabe",
   "metadata": {},
   "outputs": [
    {
     "name": "stdout",
     "output_type": "stream",
     "text": [
      "Nombre total de valeurs vides : 0\n"
     ]
    }
   ],
   "source": [
    "nb_vides = df.isna().sum().sum()\n",
    "\n",
    "print(f\"Nombre total de valeurs vides : {nb_vides}\")"
   ]
  },
  {
   "cell_type": "code",
   "execution_count": 9,
   "id": "eb0966b7",
   "metadata": {},
   "outputs": [
    {
     "name": "stdout",
     "output_type": "stream",
     "text": [
      "    id_batiment state_batiment\n",
      "0       E000170         intact\n",
      "1       E000304         intact\n",
      "2       E000123         intact\n",
      "3       E000331         intact\n",
      "4       E000011         intact\n",
      "..          ...            ...\n",
      "376     E000356         intact\n",
      "377     E000007         intact\n",
      "378     E000236         intact\n",
      "379     E000381      a_reparer\n",
      "380     E000100         intact\n",
      "\n",
      "[381 rows x 2 columns]\n"
     ]
    }
   ],
   "source": [
    "import pandas as pd\n",
    "\n",
    "# Lecture du fichier Excel contenant le réseau\n",
    "network_df = pd.read_excel(\"reseau_en_arbre.xlsx\")\n",
    "\n",
    "# Filtrer les infrastructures à remplacer\n",
    "broken_network_df = network_df[network_df[\"infra_type\"] == \"a_remplacer\"]\n",
    "\n",
    "# Créer des ensembles (sets) d'identifiants de bâtiments\n",
    "set_id_batiments = set(network_df[\"id_batiment\"].values)\n",
    "set_id_broken_batiments = set(broken_network_df[\"id_batiment\"].values)\n",
    "\n",
    "# Initialiser les listes pour les résultats\n",
    "list_id_batiment = []\n",
    "state_batiment = []\n",
    "\n",
    "# Déterminer l'état de chaque bâtiment\n",
    "for id_batiment in set_id_batiments:\n",
    "    list_id_batiment.append(id_batiment)\n",
    "    if id_batiment in set_id_broken_batiments:\n",
    "        state_batiment.append(\"a_reparer\")\n",
    "    else:\n",
    "        state_batiment.append(\"intact\")\n",
    "\n",
    "# Créer un DataFrame final avec l'état de chaque bâtiment\n",
    "state_df = pd.DataFrame({\n",
    "    \"id_batiment\": list_id_batiment,\n",
    "    \"state_batiment\": state_batiment\n",
    "})\n",
    "state_df.to_csv(\"etat_batiments.csv\", index=False)\n",
    "\n",
    "# Afficher le résultat\n",
    "print(state_df)\n"
   ]
  }
 ],
 "metadata": {
  "kernelspec": {
   "display_name": "Python 3",
   "language": "python",
   "name": "python3"
  },
  "language_info": {
   "codemirror_mode": {
    "name": "ipython",
    "version": 3
   },
   "file_extension": ".py",
   "mimetype": "text/x-python",
   "name": "python",
   "nbconvert_exporter": "python",
   "pygments_lexer": "ipython3",
   "version": "3.12.2"
  }
 },
 "nbformat": 4,
 "nbformat_minor": 5
}
